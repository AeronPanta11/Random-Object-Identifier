{
  "nbformat": 4,
  "nbformat_minor": 0,
  "metadata": {
    "colab": {
      "provenance": [],
      "authorship_tag": "ABX9TyNQY+kD5sKGOFTs0J47Jdyn",
      "include_colab_link": true
    },
    "kernelspec": {
      "name": "python3",
      "display_name": "Python 3"
    },
    "language_info": {
      "name": "python"
    }
  },
  "cells": [
    {
      "cell_type": "markdown",
      "metadata": {
        "id": "view-in-github",
        "colab_type": "text"
      },
      "source": [
        "<a href=\"https://colab.research.google.com/github/AeronPanta11/Random-Object-Identifier/blob/main/random%20object%20identifier%20along%20with%20streamlit.ipynb\" target=\"_parent\"><img src=\"https://colab.research.google.com/assets/colab-badge.svg\" alt=\"Open In Colab\"/></a>"
      ]
    },
    {
      "cell_type": "code",
      "source": [
        "! git clone https://github.com/AeronPanta11/Random-Object-Identifier"
      ],
      "metadata": {
        "colab": {
          "base_uri": "https://localhost:8080/"
        },
        "id": "CSHXJP8dbgyd",
        "outputId": "3fca2790-0749-453a-f376-37b668ad2ff8"
      },
      "execution_count": 1,
      "outputs": [
        {
          "output_type": "stream",
          "name": "stdout",
          "text": [
            "Cloning into 'Random-Object-Identifier'...\n",
            "remote: Enumerating objects: 6, done.\u001b[K\n",
            "remote: Counting objects: 100% (6/6), done.\u001b[K\n",
            "remote: Compressing objects: 100% (4/4), done.\u001b[K\n",
            "remote: Total 6 (delta 0), reused 0 (delta 0), pack-reused 0 (from 0)\u001b[K\n",
            "Receiving objects: 100% (6/6), 16.89 KiB | 16.89 MiB/s, done.\n"
          ]
        }
      ]
    },
    {
      "cell_type": "code",
      "source": [
        "!pip install pyngrok\n",
        "from pyngrok import ngrok\n",
        "from threading import Thread\n",
        "import os\n",
        "\n"
      ],
      "metadata": {
        "id": "Vf0V6Y9-b1F2",
        "colab": {
          "base_uri": "https://localhost:8080/"
        },
        "outputId": "a570ee21-ea69-49f1-ae82-ee311e6504cd"
      },
      "execution_count": 3,
      "outputs": [
        {
          "output_type": "stream",
          "name": "stdout",
          "text": [
            "Requirement already satisfied: pyngrok in /usr/local/lib/python3.10/dist-packages (7.2.1)\n",
            "Requirement already satisfied: PyYAML>=5.1 in /usr/local/lib/python3.10/dist-packages (from pyngrok) (6.0.2)\n"
          ]
        }
      ]
    },
    {
      "cell_type": "code",
      "source": [
        "ngrok.set_auth_token('2oyK6VIlAgontpqioSI8ESsa41S_7v3VrSTYfEKbnehxmxnNk')"
      ],
      "metadata": {
        "colab": {
          "base_uri": "https://localhost:8080/"
        },
        "id": "XUzb_G-hOBz6",
        "outputId": "2cc33f9c-0460-4adc-99a6-e42ce4efad76"
      },
      "execution_count": 4,
      "outputs": [
        {
          "output_type": "stream",
          "name": "stdout",
          "text": []
        }
      ]
    },
    {
      "cell_type": "code",
      "source": [
        "%%writefile app.py\n",
        "import streamlit as st\n",
        "import tensorflow as tf\n",
        "st.title(\"Image Classification App\")\n",
        "\n",
        "uploaded_file = st.file_uploader(\"Choose an image...\", type=[\"jpg\", \"png\", \"jpeg\"])\n",
        "\n",
        "if uploaded_file is not None:\n",
        "    # Read the image\n",
        "    image = tf.keras.preprocessing.image.load_img(uploaded_file, target_size=(32, 32))  # Adjust target size as needed\n",
        "\n",
        "    # Convert to NumPy array\n",
        "    image = tf.keras.preprocessing.image.img_to_array(image)\n",
        "\n",
        "    # Make prediction\n",
        "    predicted_class = predict(image)\n",
        "\n",
        "    st.image(image, caption='Uploaded Image.', use_column_width=True)\n",
        "    st.write(f\"Prediction: {predicted_class}\")"
      ],
      "metadata": {
        "colab": {
          "base_uri": "https://localhost:8080/"
        },
        "id": "bsRPVnsjPPhE",
        "outputId": "8e19a717-e7ab-4dc4-f471-7d01262b89e8"
      },
      "execution_count": 5,
      "outputs": [
        {
          "output_type": "stream",
          "name": "stdout",
          "text": [
            "Writing app.py\n"
          ]
        }
      ]
    },
    {
      "cell_type": "code",
      "source": [
        "!ls\n"
      ],
      "metadata": {
        "colab": {
          "base_uri": "https://localhost:8080/"
        },
        "id": "e1gFJCGFR2bJ",
        "outputId": "2821a910-4572-413f-a49e-3300b59b0e38"
      },
      "execution_count": 6,
      "outputs": [
        {
          "output_type": "stream",
          "name": "stdout",
          "text": [
            "app.py\tRandom-Object-Identifier  sample_data\n"
          ]
        }
      ]
    },
    {
      "cell_type": "code",
      "source": [
        "!streamlit run app.py &>/dev/null&"
      ],
      "metadata": {
        "id": "81bIROE9R4x1"
      },
      "execution_count": 8,
      "outputs": []
    },
    {
      "cell_type": "code",
      "source": [
        "# pub_url = ngrok.connect(addr='8501')  # Change 'port' to 'addr'\n",
        "# or for full address:\n",
        "pub_url = ngrok.connect(addr='localhost:8501')"
      ],
      "metadata": {
        "id": "HZQL_QPFSTJQ"
      },
      "execution_count": 12,
      "outputs": []
    },
    {
      "cell_type": "code",
      "source": [
        "pub_url"
      ],
      "metadata": {
        "colab": {
          "base_uri": "https://localhost:8080/"
        },
        "id": "ers7LXNzSeY5",
        "outputId": "e7ed44c2-72af-4cf2-baba-1693569b28b5"
      },
      "execution_count": 13,
      "outputs": [
        {
          "output_type": "execute_result",
          "data": {
            "text/plain": [
              "<NgrokTunnel: \"https://6d28-34-106-110-47.ngrok-free.app\" -> \"http://localhost:8501\">"
            ]
          },
          "metadata": {},
          "execution_count": 13
        }
      ]
    },
    {
      "cell_type": "code",
      "source": [],
      "metadata": {
        "id": "9qsuzx16S5l1"
      },
      "execution_count": null,
      "outputs": []
    }
  ]
}